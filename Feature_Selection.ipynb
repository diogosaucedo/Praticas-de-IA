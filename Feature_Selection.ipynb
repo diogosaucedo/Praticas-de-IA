{
  "nbformat": 4,
  "nbformat_minor": 0,
  "metadata": {
    "colab": {
      "name": "Feature Selection.ipynb",
      "provenance": [],
      "authorship_tag": "ABX9TyPkCh+Ln7jghA5iULyvlKtg",
      "include_colab_link": true
    },
    "kernelspec": {
      "name": "python3",
      "display_name": "Python 3"
    },
    "language_info": {
      "name": "python"
    }
  },
  "cells": [
    {
      "cell_type": "markdown",
      "metadata": {
        "id": "view-in-github",
        "colab_type": "text"
      },
      "source": [
        "<a href=\"https://colab.research.google.com/github/diogosaucedo/Praticas-de-IA/blob/main/Feature_Selection.ipynb\" target=\"_parent\"><img src=\"https://colab.research.google.com/assets/colab-badge.svg\" alt=\"Open In Colab\"/></a>"
      ]
    },
    {
      "cell_type": "code",
      "metadata": {
        "id": "sN2y4aVR0Vpi",
        "colab": {
          "base_uri": "https://localhost:8080/"
        },
        "outputId": "83fc9dba-79f4-4571-ea46-930eb5e1cbcf"
      },
      "source": [
        "!pip install talib-binary"
      ],
      "execution_count": null,
      "outputs": [
        {
          "output_type": "stream",
          "text": [
            "Collecting talib-binary\n",
            "\u001b[?25l  Downloading https://files.pythonhosted.org/packages/00/61/a68a9276a3c166df8717927780d994496ee4cb5299903a409f93689a2b4e/talib_binary-0.4.19-cp37-cp37m-manylinux1_x86_64.whl (2.4MB)\n",
            "\u001b[K     |████████████████████████████████| 2.4MB 28.6MB/s \n",
            "\u001b[?25hRequirement already satisfied: numpy in /usr/local/lib/python3.7/dist-packages (from talib-binary) (1.19.5)\n",
            "Installing collected packages: talib-binary\n",
            "Successfully installed talib-binary-0.4.19\n"
          ],
          "name": "stdout"
        }
      ]
    },
    {
      "cell_type": "code",
      "metadata": {
        "id": "0HIfyYux0cit"
      },
      "source": [
        "import numpy as np\n",
        "from talib.abstract import *\n",
        "import pickle\n",
        "import pandas as pd"
      ],
      "execution_count": null,
      "outputs": []
    },
    {
      "cell_type": "code",
      "metadata": {
        "id": "DRY1Eb8G63qn"
      },
      "source": [
        "minutes = 5 # forecast horizon in minutes\n",
        "test_size= 0.2 # 20% of the dataframe for testing\n",
        "\n",
        "# load dataframe\n",
        "with open(\"EURUSD\", \"rb\") as f:\n",
        "    inputs = pickle.load(f) # inputs is a dict containing open, high, low, closed, volume\n",
        "dataframe = pd.DataFrame.from_dict(inputs)"
      ],
      "execution_count": null,
      "outputs": []
    },
    {
      "cell_type": "code",
      "metadata": {
        "id": "j4NBaNhj7SE7"
      },
      "source": [
        "dataframe['EMAC'] = EMA(dataframe['close'], timeperiod=50)\n",
        "dataframe['EMAO'] = EMA(dataframe['open'], timeperiod=50)\n",
        "dataframe['EMAH'] = EMA(dataframe['high'], timeperiod=50)\n",
        "dataframe['EMAL'] = EMA(dataframe['low'], timeperiod=50)\n",
        "dataframe.fillna(method=\"ffill\", inplace= True) # ffill: propagate last valid observation forward to next valid\n",
        "dataframe.fillna(method=\"bfill\",inplace= True) # bfill: use next valid observation to fill gap.\n",
        "dataframe['BB_UP'], dataframe['BB_MID'], dataframe['BB_LOW'] = BBANDS(dataframe['EMAC'], timeperiod=20, nbdevup=2.5, nbdevdn=2.5, matype=0)\n",
        "dataframe['EMA'] = EMA(dataframe['close'], timeperiod=100)\n",
        "dataframe['RSI'] = RSI(dataframe['EMAC'], timeperiod=14)\n",
        "dataframe['CCI'] = CCI(dataframe['EMAH'], dataframe['EMAL'], dataframe['EMAC'], timeperiod=14)\n",
        "dataframe['WILLR'] = WILLR(dataframe['EMAC'], dataframe['EMAL'], dataframe['EMAC'], timeperiod=14)\n",
        "dataframe['macd'], dataframe['macdsignal'], dataframe['macdhist'] = MACD(dataframe['EMAC'], fastperiod=14, slowperiod=24, signalperiod=14)\n",
        "dataframe['OBV'] = OBV(dataframe['EMAC'], dataframe['volume']) # On Balance Volume\n",
        "dataframe['ROC'] = ROC(dataframe['EMAC'], timeperiod=14)\n",
        "dataframe['fastk'], dataframe['fastd'] = STOCHRSI(dataframe['EMAC'], timeperiod=14, fastk_period=5, fastd_period=3, fastd_matype=0)\n",
        "dataframe.fillna(method=\"ffill\", inplace= True) # ffill: propagate last valid observation forward to next valid\n",
        "dataframe.fillna(method=\"bfill\",inplace= True) # bfill: use next valid observation to fill gap."
      ],
      "execution_count": null,
      "outputs": []
    },
    {
      "cell_type": "code",
      "metadata": {
        "id": "I63_v0QE_DXe"
      },
      "source": [
        "dataframe['tendencia'] = dataframe.close - dataframe.EMA"
      ],
      "execution_count": null,
      "outputs": []
    },
    {
      "cell_type": "code",
      "metadata": {
        "id": "uWlXhQTJ_I5z"
      },
      "source": [
        "temp_df = dataframe['close'].shift(-minutes) # Shift index by desired number of periods\n",
        "temp_df.fillna(method=\"ffill\", inplace= True)\n",
        "temp_df.fillna(method=\"bfill\", inplace= True)\n",
        "# 1 = price increase, 0 = price decrease\n",
        "classes = np.where(temp_df > dataframe.close, 1, 0)"
      ],
      "execution_count": null,
      "outputs": []
    },
    {
      "cell_type": "code",
      "metadata": {
        "id": "X8D6Z093_sXn"
      },
      "source": [
        "from sklearn.model_selection import train_test_split\n",
        "from sklearn.preprocessing import QuantileTransformer"
      ],
      "execution_count": null,
      "outputs": []
    },
    {
      "cell_type": "code",
      "metadata": {
        "id": "YYI8Ik95_tS_"
      },
      "source": [
        "# Random division\n",
        "X_train,X_test,y_train,y_test=train_test_split(dataframe, classes, test_size= test_size, random_state=101)\n",
        "# Exponential smoothing\n",
        "scaler=QuantileTransformer()\n",
        "scaler.fit(X_train)\n",
        "X_train = pd.DataFrame(data=scaler.transform(X_train),columns = X_train.columns, index=X_train.index)\n",
        "X_test = pd.DataFrame(data=scaler.transform(X_test),columns = X_test.columns,index=X_test.index)"
      ],
      "execution_count": null,
      "outputs": []
    },
    {
      "cell_type": "code",
      "metadata": {
        "id": "7IYOhLCtg-aQ"
      },
      "source": [
        "from sklearn.ensemble import RandomForestClassifier\n",
        "from sklearn.metrics import roc_auc_score\n",
        "from sklearn.feature_selection import SelectFromModel"
      ],
      "execution_count": null,
      "outputs": []
    },
    {
      "cell_type": "code",
      "metadata": {
        "colab": {
          "base_uri": "https://localhost:8080/"
        },
        "id": "1OMr7Vje_zKy",
        "outputId": "5a196ac9-27bc-46c2-f9a3-9ea1029d6221"
      },
      "source": [
        "rf = RandomForestClassifier(n_estimators=100, n_jobs=-1)\n",
        "rf.fit(X_train, y_train)"
      ],
      "execution_count": null,
      "outputs": [
        {
          "output_type": "execute_result",
          "data": {
            "text/plain": [
              "RandomForestClassifier(bootstrap=True, ccp_alpha=0.0, class_weight=None,\n",
              "                       criterion='gini', max_depth=None, max_features='auto',\n",
              "                       max_leaf_nodes=None, max_samples=None,\n",
              "                       min_impurity_decrease=0.0, min_impurity_split=None,\n",
              "                       min_samples_leaf=1, min_samples_split=2,\n",
              "                       min_weight_fraction_leaf=0.0, n_estimators=100,\n",
              "                       n_jobs=-1, oob_score=False, random_state=None, verbose=0,\n",
              "                       warm_start=False)"
            ]
          },
          "metadata": {
            "tags": []
          },
          "execution_count": 11
        }
      ]
    },
    {
      "cell_type": "code",
      "metadata": {
        "id": "nSjZ1zIIiPWf"
      },
      "source": [
        "thresholds = [thres for thres in sorted(rf.feature_importances_) if thres != 0]  # Use feat. with >0 importance\n",
        "feature_names = [i for i in list(X_train.columns)]\n",
        "roc_scores = {}\n",
        "for thresh in thresholds:\n",
        "  selection = SelectFromModel(rf, threshold=thresh, prefit=True)\n",
        "  select_X_train = selection.transform(X_train)\n",
        "  selection_model = RandomForestClassifier(n_estimators=100, n_jobs=-1)\n",
        "  selection_model.fit(select_X_train, y_train)\n",
        "  select_X_test = selection.transform(X_test)  # eval model\n",
        "  y_pred = selection_model.predict(select_X_test)\n",
        "  score = selection_model.score(select_X_test, y_test)\n",
        "  roc = roc_auc_score(y_test, y_pred)\n",
        "  roc_scores[selection.threshold] = [roc, score]\n"
      ],
      "execution_count": null,
      "outputs": []
    },
    {
      "cell_type": "code",
      "metadata": {
        "colab": {
          "base_uri": "https://localhost:8080/"
        },
        "id": "L188UPZLMn4q",
        "outputId": "4a7c3609-ef62-4adf-c613-ad2e00bc3ee9"
      },
      "source": [
        "for i in roc_scores:\n",
        "  print(i, roc_scores[i])\n"
      ],
      "execution_count": null,
      "outputs": [
        {
          "output_type": "stream",
          "text": [
            "0.008981146338858093 [0.7859101606766326, 0.7863611111111111]\n",
            "0.03150802408214881 [0.7867423189372287, 0.7872222222222223]\n",
            "0.03337831980821178 [0.7877039756398417, 0.7881666666666667]\n",
            "0.03438941186409928 [0.7868482199951572, 0.7872777777777777]\n",
            "0.034641747868890245 [0.7883117765681842, 0.7887777777777778]\n",
            "0.03516435360373201 [0.7888947820248924, 0.7893611111111111]\n",
            "0.0355902499287253 [0.7873728835289442, 0.7878333333333334]\n",
            "0.0363086763842318 [0.7833798800637788, 0.7838888888888889]\n",
            "0.036445387071040496 [0.7807239546513242, 0.7812222222222223]\n",
            "0.03651589739711096 [0.7814468769711319, 0.7819166666666667]\n",
            "0.03674350538973208 [0.7781288723239356, 0.7786666666666666]\n",
            "0.03739495254154087 [0.7716842976571188, 0.7722777777777777]\n",
            "0.03745304164842909 [0.7600922201332956, 0.7607222222222222]\n",
            "0.038548269640931374 [0.7491043492751769, 0.7497777777777778]\n",
            "0.039989674558664146 [0.7393564063914931, 0.7400277777777777]\n",
            "0.04620810034825805 [0.6877646445699139, 0.6885833333333333]\n",
            "0.050993308157449777 [0.6921723468944163, 0.6929722222222222]\n",
            "0.05245882151735271 [0.7056374181465352, 0.7064166666666667]\n",
            "0.053435091370149276 [0.7111766462253992, 0.7118611111111111]\n",
            "0.05500981086009862 [0.7221665488917789, 0.7228333333333333]\n",
            "0.05517909430777493 [0.6910113877109616, 0.6916944444444444]\n",
            "0.05603416370244495 [0.6579896925934623, 0.6587222222222222]\n",
            "0.05605138659964783 [0.5658814446178968, 0.5664166666666667]\n",
            "0.06157756501047754 [0.5075109899211935, 0.50775]\n"
          ],
          "name": "stdout"
        }
      ]
    },
    {
      "cell_type": "code",
      "metadata": {
        "colab": {
          "base_uri": "https://localhost:8080/"
        },
        "id": "gkX0WhV0kDis",
        "outputId": "9925072c-dfd7-47e3-c1ab-da91bd636598"
      },
      "source": [
        "best_thresh = 0.03651589739711096\n",
        "fs = SelectFromModel(rf, threshold=best_thresh, prefit=True)\n",
        "X_train_trans_ = fs.transform(X_train)\n",
        "X_test_trans_ = fs.transform(X_test)\n",
        "selected_feat= X_train.columns[(fs.get_support())]\n",
        "print(selected_feat)\n",
        "print(len(selected_feat))"
      ],
      "execution_count": null,
      "outputs": [
        {
          "output_type": "stream",
          "text": [
            "Index(['close', 'volume', 'EMAL', 'BB_UP', 'BB_LOW', 'EMA', 'RSI', 'CCI',\n",
            "       'macd', 'macdsignal', 'macdhist', 'OBV', 'ROC', 'fastd', 'tendencia'],\n",
            "      dtype='object')\n",
            "15\n"
          ],
          "name": "stdout"
        }
      ]
    },
    {
      "cell_type": "code",
      "metadata": {
        "colab": {
          "base_uri": "https://localhost:8080/"
        },
        "id": "Dyp58Fq6oOVW",
        "outputId": "982dafc6-0049-45e6-c4d9-472f42903c87"
      },
      "source": [
        "rf = RandomForestClassifier(n_estimators=100, n_jobs=-1)\n",
        "rf.fit(X_train_trans_, y_train)"
      ],
      "execution_count": null,
      "outputs": [
        {
          "output_type": "execute_result",
          "data": {
            "text/plain": [
              "RandomForestClassifier(bootstrap=True, ccp_alpha=0.0, class_weight=None,\n",
              "                       criterion='gini', max_depth=None, max_features='auto',\n",
              "                       max_leaf_nodes=None, max_samples=None,\n",
              "                       min_impurity_decrease=0.0, min_impurity_split=None,\n",
              "                       min_samples_leaf=1, min_samples_split=2,\n",
              "                       min_weight_fraction_leaf=0.0, n_estimators=100,\n",
              "                       n_jobs=-1, oob_score=False, random_state=None, verbose=0,\n",
              "                       warm_start=False)"
            ]
          },
          "metadata": {
            "tags": []
          },
          "execution_count": 27
        }
      ]
    },
    {
      "cell_type": "code",
      "metadata": {
        "colab": {
          "base_uri": "https://localhost:8080/"
        },
        "id": "N3wR4Go5_3Ht",
        "outputId": "cc4fd42f-4eea-4b65-c7eb-b4b755d3e912"
      },
      "source": [
        "predictions = rf.predict(X_test_trans_)\n",
        "score = rf.score(X_test_trans_, y_test)\n",
        "print('Score: ', round(score,2))"
      ],
      "execution_count": null,
      "outputs": [
        {
          "output_type": "stream",
          "text": [
            "Score:  0.77\n"
          ],
          "name": "stdout"
        }
      ]
    }
  ]
}